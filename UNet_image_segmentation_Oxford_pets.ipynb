{
  "cells": [
    {
      "cell_type": "markdown",
      "metadata": {
        "id": "view-in-github",
        "colab_type": "text"
      },
      "source": [
        "<a href=\"https://colab.research.google.com/github/basmadokkar/CV/blob/main/UNet_image_segmentation_Oxford_pets.ipynb\" target=\"_parent\"><img src=\"https://colab.research.google.com/assets/colab-badge.svg\" alt=\"Open In Colab\"/></a>"
      ]
    },
    {
      "cell_type": "code",
      "execution_count": null,
      "metadata": {
        "id": "ansMUTf5gqDX"
      },
      "outputs": [],
      "source": [
        "import random\n",
        "import numpy as np\n",
        "from matplotlib import pyplot as plt\n",
        "import tifffile as tiff\n",
        "import glob\n",
        "import os\n",
        "import cv2\n",
        "import tensorflow as tf\n",
        "from tensorflow.python.client import device_lib\n",
        "from sklearn.model_selection import train_test_split\n",
        "import tensorflow as tf\n",
        "from keras.models import Model\n",
        "from keras.layers import Input, Conv2D, MaxPooling2D, UpSampling2D, concatenate, Conv2DTranspose, BatchNormalization, Dropout, Lambda,Dense, Activation, Concatenate, MaxPool2D\n",
        "from keras import optimizers\n",
        "from keras.optimizers import Adam\n",
        "from keras.metrics import MeanIoU\n",
        "from keras import backend as K\n",
        "from sklearn import metrics\n",
        "from google.colab import drive\n",
        "from PIL import Image\n",
        "from keras.preprocessing.image import ImageDataGenerator\n",
        "from skimage.filters import threshold_otsu, threshold_multiotsu\n",
        "from cv2 import adaptiveThreshold\n",
        "from PIL import Image"
      ]
    },
    {
      "cell_type": "code",
      "execution_count": null,
      "metadata": {
        "id": "Iypz4W5goHVk"
      },
      "outputs": [],
      "source": [
        "\n",
        "def binary_crossentropy(Y_pred, Y_gt):\n",
        "    epsilon = 1.e-5\n",
        "    Y_pred = tf.clip_by_value(Y_pred, epsilon, 1. - epsilon)\n",
        "    logits = tf.log(Y_pred / (1 - Y_pred))\n",
        "    loss = tf.nn.sigmoid_cross_entropy_with_logits(labels=Y_gt, logits=logits)\n",
        "    loss = tf.reduce_mean(loss)\n",
        "    return loss\n",
        "\n",
        "\n",
        "def dice_loss_3d(Y_gt, Y_pred):\n",
        "    Z, H, W, C = Y_gt.get_shape().as_list()[1:]\n",
        "    smooth = 1e-5\n",
        "    pred_flat = tf.reshape(Y_pred, [-1, H * W * C * Z])\n",
        "    true_flat = tf.reshape(Y_gt, [-1, H * W * C * Z])\n",
        "    intersection = 2 * tf.reduce_sum(pred_flat * true_flat, axis=1) + smooth\n",
        "    denominator = tf.reduce_sum(pred_flat, axis=1) + tf.reduce_sum(true_flat, axis=1) + smooth\n",
        "    loss = 1 - tf.reduce_mean(intersection / denominator)\n",
        "    return loss\n",
        "\n",
        "\n",
        "def dice_loss_2d(Y_gt, Y_pred):\n",
        "    H, W, C = Y_gt.get_shape().as_list()[1:]\n",
        "    smooth = 1e-5\n",
        "    pred_flat = tf.reshape(Y_pred, [-1, H * W * C])\n",
        "    true_flat = tf.reshape(Y_gt, [-1, H * W * C])\n",
        "    intersection = 2 * tf.reduce_sum(pred_flat * true_flat, axis=1) + smooth\n",
        "    denominator = tf.reduce_sum(pred_flat, axis=1) + tf.reduce_sum(true_flat, axis=1) + smooth\n",
        "    loss = 1 - tf.reduce_mean(intersection / denominator)\n",
        "    return loss\n",
        "\n",
        "\n",
        "def tversky_loss_3d(Y_gt, Y_pred, alpha=0.7):\n",
        "    Z, H, W, C = Y_gt.get_shape().as_list()[1:]\n",
        "    smooth = 1e-5\n",
        "    y_pred_pos = tf.reshape(Y_pred, [-1, H * W * C * Z])\n",
        "    y_true_pos = tf.reshape(Y_gt, [-1, H * W * C * Z])\n",
        "    true_pos = tf.reduce_sum(y_true_pos * y_pred_pos, axis=1)\n",
        "    false_neg = tf.reduce_sum(y_true_pos * (1 - y_pred_pos), axis=1)\n",
        "    false_pos = tf.reduce_sum((1 - y_true_pos) * y_pred_pos, axis=1)\n",
        "    tversky = (true_pos + smooth) / (true_pos + alpha * false_neg + (1 - alpha) * false_pos + smooth)\n",
        "    loss = 1 - tf.reduce_mean(tversky)\n",
        "    return loss\n",
        "\n",
        "\n",
        "def tversky_loss_2d(Y_gt, Y_pred, alpha=0.7):\n",
        "    H, W, C = Y_gt.get_shape().as_list()[1:]\n",
        "    smooth = 1e-5\n",
        "    y_pred_pos = tf.reshape(Y_pred, [-1, H * W * C])\n",
        "    y_true_pos = tf.reshape(Y_gt, [-1, H * W * C])\n",
        "    true_pos = tf.reduce_sum(y_true_pos * y_pred_pos, axis=1)\n",
        "    false_neg = tf.reduce_sum(y_true_pos * (1 - y_pred_pos), axis=1)\n",
        "    false_pos = tf.reduce_sum((1 - y_true_pos) * y_pred_pos, axis=1)\n",
        "    tversky = (true_pos + smooth) / (true_pos + alpha * false_neg + (1 - alpha) * false_pos + smooth)\n",
        "    loss = 1 - tf.reduce_mean(tversky)\n",
        "    return loss\n",
        "\n",
        "\n",
        "def focal_tversky_3d(Y_gt, Y_pred, alpha=0.7, gamma=0.75):\n",
        "    Z, H, W, C = Y_gt.get_shape().as_list()[1:]\n",
        "    smooth = 1e-5\n",
        "    y_pred_pos = tf.reshape(Y_pred, [-1, H * W * C * Z])\n",
        "    y_true_pos = tf.reshape(Y_gt, [-1, H * W * C * Z])\n",
        "    true_pos = tf.reduce_sum(y_true_pos * y_pred_pos, axis=1)\n",
        "    false_neg = tf.reduce_sum(y_true_pos * (1 - y_pred_pos), axis=1)\n",
        "    false_pos = tf.reduce_sum((1 - y_true_pos) * y_pred_pos, axis=1)\n",
        "    tversky = (true_pos + smooth) / (true_pos + alpha * false_neg + (1 - alpha) * false_pos + smooth)\n",
        "    loss = 1 - tf.reduce_mean(tversky)\n",
        "    loss = tf.pow(loss, gamma)\n",
        "    return loss\n",
        "\n",
        "\n",
        "def focal_tversky_2d(Y_gt, Y_pred, alpha=0.7, gamma=0.75):\n",
        "    H, W, C = Y_gt.get_shape().as_list()[1:]\n",
        "    smooth = 1e-5\n",
        "    y_pred_pos = tf.reshape(Y_pred, [-1, 3*256*256])\n",
        "    y_true_pos = tf.reshape(Y_gt, [-1, 3*256*256])\n",
        "    true_pos = tf.reduce_sum(y_true_pos * y_pred_pos, axis=1)\n",
        "    false_neg = tf.reduce_sum(y_true_pos * (1 - y_pred_pos), axis=1)\n",
        "    false_pos = tf.reduce_sum((1 - y_true_pos) * y_pred_pos, axis=1)\n",
        "    tversky = (true_pos + smooth) / (true_pos + alpha * false_neg + (1 - alpha) * false_pos + smooth)\n",
        "    loss = 1 - tf.reduce_mean(tversky)\n",
        "    loss = tf.pow(loss, gamma)\n",
        "    return loss\n",
        "\n",
        "\n",
        "def generalised_dice_loss_3d(Y_gt, Y_pred):\n",
        "    smooth = 1e-5\n",
        "    w = tf.reduce_sum(Y_gt, axis=[1, 2, 3])\n",
        "    w = 1 / (w ** 2 + smooth)\n",
        "\n",
        "    numerator = Y_gt * Y_pred\n",
        "    numerator = w * tf.reduce_sum(numerator, axis=[1, 2, 3])\n",
        "    numerator = tf.reduce_sum(numerator, axis=1)\n",
        "\n",
        "    denominator = Y_pred + Y_gt\n",
        "    denominator = w * tf.reduce_sum(denominator, axis=[1, 2, 3])\n",
        "    denominator = tf.reduce_sum(denominator, axis=1)\n",
        "\n",
        "    gen_dice_coef = 2 * numerator / (denominator + smooth)\n",
        "    loss = tf.reduce_mean(1 - gen_dice_coef)\n",
        "    return loss\n",
        "\n",
        "\n",
        "def generalised_dice_loss_2d_ein(Y_gt, Y_pred):\n",
        "    Y_gt = tf.cast(Y_gt, 'float32')\n",
        "    Y_pred = tf.cast(Y_pred, 'float32')\n",
        "    w = tf.einsum(\"bwhc->bc\", Y_gt)\n",
        "    w = 1 / ((w + 1e-10) ** 2)\n",
        "    intersection = w * tf.einsum(\"bwhc,bwhc->bc\", Y_pred, Y_gt)\n",
        "    union = w * (tf.einsum(\"bwhc->bc\", Y_pred) + tf.einsum(\"bwhc->bc\", Y_gt))\n",
        "\n",
        "    divided = 1 - 2 * (tf.einsum(\"bc->b\", intersection) + 1e-10) / (tf.einsum(\"bc->b\", union) + 1e-10)\n",
        "\n",
        "    loss = tf.reduce_mean(divided)\n",
        "    return loss\n",
        "\n",
        "\n",
        "def generalised_dice_loss_2d(Y_gt, Y_pred):\n",
        "    smooth = 1e-5\n",
        "    w = tf.reduce_sum(Y_gt, axis=[1, 2])\n",
        "    w = 1 / (w ** 2 + smooth)\n",
        "\n",
        "    numerator = Y_gt * Y_pred\n",
        "    numerator = w * tf.reduce_sum(numerator, axis=[1, 2])\n",
        "    numerator = tf.reduce_sum(numerator, axis=1)\n",
        "\n",
        "    denominator = Y_pred + Y_gt\n",
        "    denominator = w * tf.reduce_sum(denominator, axis=[1, 2])\n",
        "    denominator = tf.reduce_sum(denominator, axis=1)\n",
        "\n",
        "    gen_dice_coef = 2 * numerator / (denominator + smooth)\n",
        "    loss = tf.reduce_mean(1 - gen_dice_coef)\n",
        "    return loss\n",
        "\n",
        "\n",
        "def surface_loss_3d(Y_gt, Y_pred):\n",
        "    multipled = tf.reduce_sum(Y_gt * Y_pred, axis=[0,1, 2, 3, 4])\n",
        "    loss = tf.reduce_mean(multipled)\n",
        "    return loss\n",
        "\n",
        "\n",
        "def surface_loss_2d(Y_gt, Y_pred):\n",
        "    multipled = tf.reduce_sum(Y_gt * Y_pred, axis=[0,1, 2, 3])\n",
        "    loss = tf.reduce_mean(multipled)\n",
        "    return loss\n",
        "\n",
        "\n",
        "def focal_loss_sigmodv1(Y_gt, Y_pred,alpha=0.25, gamma=2):\n",
        "   epsilon = 1e-5\n",
        "   pt_1 = tf.where(tf.equal(Y_gt, 1), Y_pred, tf.ones_like(Y_pred))\n",
        "   pt_0 = tf.where(tf.equal(Y_gt, 0), Y_pred, tf.zeros_like(Y_pred))\n",
        "   # clip to prevent NaN's and Inf's\n",
        "   pt_1 = tf.clip_by_value(pt_1, epsilon, 1. - epsilon)\n",
        "   pt_0 = tf.clip_by_value(pt_0, epsilon, 1. - epsilon)\n",
        "   loss_1 = -alpha * tf.pow(1. - pt_1, gamma) * tf.log(pt_1)\n",
        "   loss_0 = -(1 - alpha) * tf.pow(pt_0, gamma) * tf.log(1. - pt_0)\n",
        "   loss = tf.reduce_sum(loss_1 + loss_0)\n",
        "   return loss\n",
        "\n",
        "\n",
        "\n",
        "\n",
        "x = tf.constant(value=5., shape=(3, 32, 32, 32, 1))\n",
        "y = tf.constant(value=1., shape=(3, 32, 32, 32, 1))\n",
        "surface_loss_3d(x, y)"
      ]
    },
    {
      "cell_type": "code",
      "execution_count": null,
      "metadata": {
        "id": "rXbvJ7Y84Lc6"
      },
      "outputs": [],
      "source": [
        "tf.keras.datasets.cifar100"
      ]
    },
    {
      "cell_type": "code",
      "execution_count": null,
      "metadata": {
        "id": "0bisZDn3gqDa"
      },
      "outputs": [],
      "source": [
        "#phisycal_devices = tf.config.experimental.list_physical_devices('GPU')\n",
        "#print(\"Num of GPUs available: \",len(phisycal_devices) )\n",
        "\n",
        "# tf.config.experimental.set_memory_growth(phisycal_devices[0] , True)"
      ]
    },
    {
      "cell_type": "code",
      "execution_count": null,
      "metadata": {
        "id": "EPYnC50iIAh3"
      },
      "outputs": [],
      "source": [
        "drive.mount('/content/drive',force_remount=True)"
      ]
    },
    {
      "cell_type": "code",
      "execution_count": null,
      "metadata": {
        "id": "eSc4rP-hgqDc"
      },
      "outputs": [],
      "source": [
        "import numpy as np"
      ]
    },
    {
      "cell_type": "code",
      "execution_count": null,
      "metadata": {
        "id": "-lOPH3zyAp5g"
      },
      "outputs": [],
      "source": [
        "X = np.load('/content/drive/MyDrive/segment_data.npy')\n",
        "Y = np.load('/content/drive/MyDrive/segment_labels.npy')"
      ]
    },
    {
      "cell_type": "code",
      "source": [
        "Y = (Y/255.0)[:700]\n",
        "X = (X/255.0)[:700]"
      ],
      "metadata": {
        "id": "gn_jB_YiYfSk"
      },
      "execution_count": null,
      "outputs": []
    },
    {
      "cell_type": "code",
      "execution_count": null,
      "metadata": {
        "id": "I2dn8uv2rf7d"
      },
      "outputs": [],
      "source": [
        "X_train, X_test, y_train, y_test = train_test_split(X, Y, test_size = 0.25, random_state = 0)\n",
        "print(X_train.shape)\n",
        "print(X_test.shape)"
      ]
    },
    {
      "cell_type": "code",
      "execution_count": null,
      "metadata": {
        "id": "MM0rxpSAgLSK"
      },
      "outputs": [],
      "source": [
        "\n",
        "\n",
        "%%time\n",
        "seed=24\n",
        "\n",
        "img_data_gen_args = dict(rotation_range=90,\n",
        "                     width_shift_range=0.3,\n",
        "                     height_shift_range=0.3,\n",
        "                     horizontal_flip=True,\n",
        "                     vertical_flip=True,\n",
        "                     shear_range=0.5,\n",
        "                     fill_mode='reflect')\n",
        "\n",
        "mask_data_gen_args = dict(rotation_range=90,\n",
        "                     width_shift_range=0.3,\n",
        "                     height_shift_range=0.3,\n",
        "                     horizontal_flip=True,\n",
        "                     vertical_flip=True,\n",
        "                     shear_range=0.5,\n",
        "                     fill_mode='reflect') #Binarize the output again.\n",
        "X_train=X_train.reshape((525, 256, 256, 3))\n",
        "X_test=X_test.reshape((175, 256, 256, 3))\n",
        "image_data_generator = ImageDataGenerator(**img_data_gen_args)\n",
        "image_data_generator.fit(X_train, augment=True, seed=seed)\n",
        "image_generator = image_data_generator.flow(tf.convert_to_tensor(X_train), seed=seed)\n",
        "valid_img_generator = image_data_generator.flow(tf.convert_to_tensor(X_test), seed=seed)"
      ]
    },
    {
      "cell_type": "code",
      "execution_count": null,
      "metadata": {
        "id": "4N2kmS5Qgrks"
      },
      "outputs": [],
      "source": [
        "%%time\n",
        "y_train = y_train.reshape((525, 256, 256,3))\n",
        "y_test = y_test.reshape((175, 256, 256,3))\n",
        "\n",
        "mask_data_generator = ImageDataGenerator(**mask_data_gen_args)\n",
        "mask_data_generator.fit(y_train, augment=True, seed=seed)\n",
        "mask_generator = mask_data_generator.flow(tf.convert_to_tensor(y_train), seed=seed)\n",
        "valid_mask_generator = mask_data_generator.flow(tf.convert_to_tensor(y_test), seed=seed)"
      ]
    },
    {
      "cell_type": "code",
      "execution_count": null,
      "metadata": {
        "id": "TUan9VnogupS"
      },
      "outputs": [],
      "source": [
        "def my_image_mask_generator(image_generator, mask_generator):\n",
        "    train_generator = zip(image_generator, mask_generator)\n",
        "    for (img, mask) in train_generator:\n",
        "        yield (img, mask)\n",
        "\n",
        "my_generator = my_image_mask_generator(image_generator, mask_generator)\n",
        "\n",
        "validation_datagen = my_image_mask_generator(valid_img_generator, valid_mask_generator)"
      ]
    },
    {
      "cell_type": "code",
      "execution_count": null,
      "metadata": {
        "id": "3b8eLoAbgqDh"
      },
      "outputs": [],
      "source": [
        "IMG_HEIGHT = 256\n",
        "IMG_WIDTH  = 256\n",
        "IMG_CHANNELS = 3"
      ]
    },
    {
      "cell_type": "code",
      "execution_count": null,
      "metadata": {
        "id": "OJPQD8N5gqDh"
      },
      "outputs": [],
      "source": [
        "kernel_initializer =  'he_normal'\n",
        "def simple_unet_model(IMG_HEIGHT, IMG_WIDTH, IMG_CHANNELS):\n",
        "#Build the model\n",
        "    inputs = Input((IMG_HEIGHT, IMG_WIDTH, IMG_CHANNELS))\n",
        "    s = inputs\n",
        "\n",
        "    #Contraction path\n",
        "    c1 = Conv2D(16, (3, 3), activation='relu', kernel_initializer=kernel_initializer, padding='same')(s)\n",
        "    c1 = Dropout(0.1)(c1)\n",
        "\n",
        "    c1 = Conv2D(16, (3, 3), activation='relu', kernel_initializer=kernel_initializer, padding='same')(c1)\n",
        "    p1 = MaxPooling2D((2, 2))(c1)\n",
        "\n",
        "    c2 = Conv2D(32, (3, 3), activation='relu', kernel_initializer=kernel_initializer, padding='same')(p1)\n",
        "    c2 = Dropout(0.1)(c2)\n",
        "    c2 = Conv2D(32, (3, 3), activation='relu', kernel_initializer=kernel_initializer, padding='same')(c2)\n",
        "    p2 = MaxPooling2D((2, 2))(c2)\n",
        "\n",
        "    c3 = Conv2D(64, (3, 3), activation='relu', kernel_initializer=kernel_initializer, padding='same')(p2)\n",
        "    c3 = Dropout(0.2)(c3)\n",
        "    c3 = Conv2D(64, (3, 3), activation='relu', kernel_initializer=kernel_initializer, padding='same')(c3)\n",
        "    p3 = MaxPooling2D((2, 2))(c3)\n",
        "\n",
        "    c4 = Conv2D(128, (3, 3), activation='relu', kernel_initializer=kernel_initializer, padding='same')(p3)\n",
        "    c4 = Dropout(0.2)(c4)\n",
        "    c4 = Conv2D(128, (3, 3), activation='relu', kernel_initializer=kernel_initializer, padding='same')(c4)\n",
        "    p4 = MaxPooling2D(pool_size=(2, 2))(c4)\n",
        "\n",
        "    c5 = Conv2D(256, (3, 3), activation='relu', kernel_initializer=kernel_initializer, padding='same')(p4)\n",
        "    c5 = Dropout(0.3)(c5)\n",
        "    c5 = Conv2D(256, (3, 3), activation='relu', kernel_initializer=kernel_initializer, padding='same')(c5)\n",
        "\n",
        "    #Expansive path\n",
        "    u6 = Conv2DTranspose(128, (2, 2), strides=(2, 2), padding='same')(c5)\n",
        "    u6 = concatenate([u6, c4])\n",
        "    c6 = Conv2D(128, (3, 3), activation='relu', kernel_initializer=kernel_initializer, padding='same')(u6)\n",
        "    c6 = Dropout(0.2)(c6)\n",
        "    c6 = Conv2D(128, (3, 3), activation='relu', kernel_initializer=kernel_initializer, padding='same')(c6)\n",
        "\n",
        "    u7 = Conv2DTranspose(64, (2, 2), strides=(2, 2), padding='same')(c6)\n",
        "    u7 = concatenate([u7, c3])\n",
        "    c7 = Conv2D(64, (3, 3), activation='relu', kernel_initializer=kernel_initializer, padding='same')(u7)\n",
        "    c7 = Dropout(0.2)(c7)\n",
        "    c7 = Conv2D(64, (3, 3), activation='relu', kernel_initializer=kernel_initializer, padding='same')(c7)\n",
        "\n",
        "    u8 = Conv2DTranspose(32, (2, 2), strides=(2, 2), padding='same')(c7)\n",
        "    u8 = concatenate([u8, c2])\n",
        "    c8 = Conv2D(32, (3, 3), activation='relu', kernel_initializer=kernel_initializer, padding='same')(u8)\n",
        "    c8 = Dropout(0.1)(c8)\n",
        "    c8 = Conv2D(32, (3, 3), activation='relu', kernel_initializer=kernel_initializer, padding='same')(c8)\n",
        "\n",
        "    u9 = Conv2DTranspose(16, (2, 2), strides=(2, 2), padding='same')(c8)\n",
        "    u9 = concatenate([u9, c1], axis=3)\n",
        "    c9 = Conv2D(16, (3, 3), activation='relu', kernel_initializer=kernel_initializer, padding='same')(u9)\n",
        "    c9 = Dropout(0.1)(c9)\n",
        "    c9 = Conv2D(16, (3, 3), activation='relu', kernel_initializer=kernel_initializer, padding='same')(c9)\n",
        "\n",
        "    outputs = Conv2D(1, (1, 1), activation='sigmoid')(c9)\n",
        "\n",
        "    model = Model(inputs=[inputs], outputs=[outputs])\n",
        "\n",
        "    model.summary()\n",
        "\n",
        "    return model\n",
        "def get_model():\n",
        "    return simple_unet_model(IMG_HEIGHT, IMG_WIDTH, IMG_CHANNELS)\n",
        "\n",
        "model = get_model()"
      ]
    },
    {
      "cell_type": "code",
      "source": [
        "def conv_block(inputs, filter_count, pool=True, batchnorm = True):\n",
        "\n",
        "    #first layer\n",
        "    x = Conv2D(filter_count, 3, padding = 'same', kernel_initializer = 'he_normal')(inputs)\n",
        "    if batchnorm:\n",
        "        x = BatchNormalization()(x)\n",
        "    x = Activation('relu')(x)\n",
        "\n",
        "    #second layer\n",
        "    x = Conv2D(filter_count, 3, padding = 'same', kernel_initializer = 'he_normal')(x)\n",
        "    if batchnorm:\n",
        "        x = BatchNormalization()(x)\n",
        "    x = Activation('relu')(x)\n",
        "\n",
        "    if pool == True:\n",
        "        p = MaxPool2D((2, 2))(x)\n",
        "        return x, p\n",
        "    else:\n",
        "        return x\n",
        "\n",
        "\n",
        "\n",
        "def deconv_block(inputs, concat_layer, filter_count, pool = False):\n",
        "    u = UpSampling2D((2,2), interpolation='bilinear')(inputs)\n",
        "    c = Concatenate()([u, concat_layer])\n",
        "    x = conv_block(c, filter_count, pool = pool, batchnorm = True)\n",
        "    return u, c, x\n",
        "\n",
        "def make_me_a_unet(shape, num_classes):\n",
        "\n",
        "    inputs = Input(shape) # 768 x 1152\n",
        "\n",
        "    # Downsampling side of the UNET i.e. the encoder !\n",
        "\n",
        "    x1, p1 = conv_block(inputs, 32, pool=True, batchnorm=True)\n",
        "    x2, p2 = conv_block(p1, 64, pool=True, batchnorm=True)\n",
        "    x3, p3 = conv_block(p2, 96, pool=True, batchnorm=True)\n",
        "    x4, p4 = conv_block(p3, 128, pool=True, batchnorm=True)\n",
        "    b = conv_block(p4, 256, pool=False, batchnorm=True)\n",
        "\n",
        "    # Upsampling side of the UNET i.e the decoder !\n",
        "\n",
        "    u1, c1, x5 = deconv_block(b, x4, 128)\n",
        "    u2, c2, x6 = deconv_block(x5, x3, 96)\n",
        "    u3, c3, x7 = deconv_block(x6, x2, 64)\n",
        "    u4, c4, x8 = deconv_block(x7, x1, 32)\n",
        "\n",
        "    # The output layer\n",
        "\n",
        "    output = Conv2D(num_classes, 1, padding='same', activation='softmax')(x8)\n",
        "\n",
        "    #softmax for multiclass classification, num_classes = 23 !\n",
        "\n",
        "    return Model(inputs, output)\n",
        "\n",
        "\n",
        "\n",
        "model = make_me_a_unet((IMG_HEIGHT,IMG_WIDTH,IMG_CHANNELS), 3)"
      ],
      "metadata": {
        "id": "1hJMbD_SEFLB"
      },
      "execution_count": null,
      "outputs": []
    },
    {
      "cell_type": "code",
      "source": [
        "model.summary()"
      ],
      "metadata": {
        "id": "EaSj9iWDEG6q"
      },
      "execution_count": null,
      "outputs": []
    },
    {
      "cell_type": "code",
      "source": [
        "Y.shape"
      ],
      "metadata": {
        "id": "7Q3KAD0p81jf"
      },
      "execution_count": null,
      "outputs": []
    },
    {
      "cell_type": "code",
      "execution_count": null,
      "metadata": {
        "id": "3oRwSdO3gqDo"
      },
      "outputs": [],
      "source": [
        "from tensorflow import keras\n",
        "#@title Select parameters {run: \"auto\"}\n",
        "\n",
        "optimizer = 'adam' #@param [\"adam\" , \"momentum\" , \"rmsprop\" , \"adagrad\", \"nag\"] {type :\"string\"}\n",
        "Learning_rate = 0.0001 #@param {type:\"number\"}\n",
        "LR = float(Learning_rate)\n",
        "if (optimizer==\"momentum\"):\n",
        "  opt = keras.optimizers.SGD(learning_rate=LR,momentum=0.9)\n",
        "if (optimizer==\"adam\"):\n",
        "  opt = keras.optimizers.Adam(learning_rate=LR)\n",
        "if (optimizer==\"RMSprop\"):\n",
        "  opt = keras.optimizers.RMSProp(learning_rate=LR)\n",
        "if (optimizer==\"Adagrad\"):\n",
        "  opt = keras.optimizers.adagrad(learning_rate=LR)\n",
        "if (optimizer==\"nag\"):\n",
        "  opt = keras.optimizers.SGD(learning_rate=LR,momentum=0.9,nesterov=True)\n",
        "\n",
        "batch_size = 64\n",
        "steps_per_epoch = 3*(len(X_train))//batch_size\n",
        "model.compile(optimizer= opt, loss = 'binary_crossentropy', metrics=['acc'])\n",
        "callback = tf.keras.callbacks.EarlyStopping(monitor='loss', patience=10)\n",
        "history = model.fit(my_generator,\n",
        "                    validation_data = validation_datagen,\n",
        "                    steps_per_epoch = steps_per_epoch,\n",
        "                    validation_steps = steps_per_epoch,\n",
        "                    epochs=200,\n",
        "                    callbacks=callback)"
      ]
    },
    {
      "cell_type": "code",
      "execution_count": null,
      "metadata": {
        "id": "9RsyRZyXgqDo"
      },
      "outputs": [],
      "source": [
        "loss = history.history['loss']\n",
        "val_loss = history.history['val_loss']\n",
        "epochs = range(1, len(loss) + 1)\n",
        "plt.plot(epochs, loss, 'y', label='Training loss')\n",
        "plt.plot(epochs, val_loss, 'r', label='Validation loss')\n",
        "plt.title('Training and validation loss')\n",
        "plt.xlabel('Epochs')\n",
        "plt.ylabel('Loss')\n",
        "plt.legend()\n",
        "plt.show()"
      ]
    },
    {
      "cell_type": "code",
      "execution_count": null,
      "metadata": {
        "id": "KI0sLsBWgqDo"
      },
      "outputs": [],
      "source": [
        "acc = history.history['acc']\n",
        "val_acc = history.history['val_acc']\n",
        "\n",
        "plt.plot(epochs, acc, 'y', label='Training acc')\n",
        "plt.plot(epochs, val_acc, 'r', label='Validation acc')\n",
        "plt.title('Training and validation accuracy')\n",
        "plt.xlabel('Epochs')\n",
        "plt.ylabel('Accuracy')\n",
        "plt.legend()\n",
        "plt.show()"
      ]
    },
    {
      "cell_type": "code",
      "execution_count": null,
      "metadata": {
        "id": "CxJGuI0ZgqDq"
      },
      "outputs": [],
      "source": [
        "test_img_number = random.randint(0, len(X_test))\n",
        "test_img = X_test[test_img_number]\n",
        "ground_truth=y_test[test_img_number]\n",
        "# test_img_norm=test_img[:,:,0][:,:,None]\n",
        "test_img_input=np.expand_dims(test_img, 0)\n",
        "print(test_img_number)\n",
        "prediction = model.predict(test_img_input)\n",
        "# prediction = prediction> threshold_otsu(prediction)\n",
        "prediction=prediction[0,:,:,0]\n",
        "plt.figure(figsize=(16, 8))\n",
        "plt.subplot(231)\n",
        "plt.title('Testing Image')\n",
        "plt.imshow(test_img[:,:,0], cmap='gray')\n",
        "plt.subplot(232)\n",
        "plt.title('Testing Label')\n",
        "plt.imshow(ground_truth[:,:,0], cmap='gray')\n",
        "plt.subplot(233)\n",
        "plt.title('Prediction on test image')\n",
        "plt.imshow(prediction, cmap='gray')\n",
        "\n",
        "plt.show()\n"
      ]
    },
    {
      "cell_type": "code",
      "execution_count": null,
      "metadata": {
        "id": "-QI3l3RtgqDq"
      },
      "outputs": [],
      "source": [
        "pred, y_pred = [model.predict(np.expand_dims(xt,0)) for xt in list(X_test)], []\n",
        "for p in pred:\n",
        "  t = p[p>0.1].mean()\n",
        "  p[p<t],p[p>=t] = 0, 1\n",
        "  y_pred.append(p)"
      ]
    },
    {
      "cell_type": "code",
      "execution_count": null,
      "metadata": {
        "id": "Gn5ePiiVgqDr"
      },
      "outputs": [],
      "source": [
        "y_test_metrics = np.array([np.ravel(yt) for yt in y_test])\n",
        "y_pred_metrics = np.array([np.ravel(yp) for yp in y_pred])"
      ]
    },
    {
      "cell_type": "code",
      "execution_count": null,
      "metadata": {
        "id": "eCYY74uPN8DF"
      },
      "outputs": [],
      "source": [
        "plt.imshow(np.squeeze(y_pred[20]),cmap='binary')\n",
        "# np.unique(y_pred[5])"
      ]
    },
    {
      "cell_type": "code",
      "execution_count": null,
      "metadata": {
        "id": "64KYyfBngqDr"
      },
      "outputs": [],
      "source": [
        "plt.imshow(np.squeeze(y_test[20]),cmap='binary')"
      ]
    },
    {
      "cell_type": "code",
      "execution_count": null,
      "metadata": {
        "id": "fsB-DZmaLqtZ"
      },
      "outputs": [],
      "source": [
        "def recall_m(y_train, y_pred):\n",
        "      true_positives = K.sum(K.round(K.clip(y_train * y_pred, 0, 1)))\n",
        "      possible_positives = K.sum(K.round(K.clip(y_train, 0, 1)))\n",
        "      recall = true_positives / (possible_positives + K.epsilon())\n",
        "      return recall\n",
        "\n",
        "def precision_m(y_train, y_pred):\n",
        "    true_positives = K.sum(K.round(K.clip(y_train * y_pred, 0, 1)))\n",
        "    predicted_positives = K.sum(K.round(K.clip(y_pred, 0, 1)))\n",
        "    precision = true_positives / (predicted_positives + K.epsilon())\n",
        "    return precision\n",
        "\n",
        "def f1_m(y_train, y_pred):\n",
        "    precision = precision_m(y_train, y_pred)\n",
        "    recall = recall_m(y_train, y_pred)\n",
        "    return 2*((precision*recall)/(precision+recall+K.epsilon()))\n",
        "\n",
        "\n",
        "def mcc(y_true, y_pred):\n",
        "    y_true_pos = K.round(K.clip(y_true, 0, 1))\n",
        "    y_pred_pos = K.round(K.clip(y_pred, 0, 1))\n",
        "\n",
        "    true_pos = K.sum(y_true_pos * y_pred_pos)\n",
        "    true_neg = K.sum((1 - y_true_pos) * (1 - y_pred_pos))\n",
        "    false_pos = K.sum((1 - y_true_pos) * y_pred_pos)\n",
        "    false_neg = K.sum(y_true_pos * (1 - y_pred_pos))\n",
        "\n",
        "    numerator = (true_pos * true_neg - false_pos * false_neg)\n",
        "    denominator = K.sqrt((true_pos + false_pos) * (true_pos + false_neg) * (true_neg + false_pos) * (true_neg + false_neg))\n",
        "\n",
        "    mcc = numerator / (denominator + K.epsilon())\n",
        "    return mcc\n"
      ]
    },
    {
      "cell_type": "code",
      "execution_count": null,
      "metadata": {
        "id": "epwFvSclgqDr"
      },
      "outputs": [],
      "source": [
        "precision_m(y_test_metrics.astype('float32'),y_pred_metrics.astype('float32')),recall_m(y_test_metrics.astype('float32'),y_pred_metrics.astype('float32')),f1_m(y_test_metrics.astype('float32'),y_pred_metrics.astype('float32'))"
      ]
    },
    {
      "cell_type": "code",
      "execution_count": null,
      "metadata": {
        "id": "pPGOZzN2gqDs"
      },
      "outputs": [],
      "source": [
        "mcc(y_test_metrics.astype('float32'),y_pred_metrics.astype('float32'))"
      ]
    },
    {
      "cell_type": "markdown",
      "source": [],
      "metadata": {
        "id": "16WQJcoThd5i"
      }
    }
  ],
  "metadata": {
    "colab": {
      "private_outputs": true,
      "provenance": [],
      "include_colab_link": true
    },
    "gpuClass": "standard",
    "kernelspec": {
      "display_name": "Python 3",
      "language": "python",
      "name": "python3"
    },
    "language_info": {
      "codemirror_mode": {
        "name": "ipython",
        "version": 3
      },
      "file_extension": ".py",
      "mimetype": "text/x-python",
      "name": "python",
      "nbconvert_exporter": "python",
      "pygments_lexer": "ipython3",
      "version": "3.8.5"
    },
    "accelerator": "GPU"
  },
  "nbformat": 4,
  "nbformat_minor": 0
}